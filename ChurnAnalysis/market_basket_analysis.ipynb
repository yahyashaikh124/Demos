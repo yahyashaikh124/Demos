{
 "cells": [
  {
   "cell_type": "markdown",
   "metadata": {},
   "source": [
    "# Data Cleaning\n",
    "\n",
    "#### Removing the null values"
   ]
  },
  {
   "cell_type": "code",
   "execution_count": 31,
   "metadata": {},
   "outputs": [
    {
     "name": "stdout",
     "output_type": "stream",
     "text": [
      "+-----------+-------------------+----------------+-------------+--------+---------------------+--------------+------------+-------+--------------+---+------+-----+\n",
      "|Customer ID|      Purchase Date|Product Category|Product Price|Quantity|Total Purchase Amount|Payment Method|Customer Age|Returns| Customer Name|Age|Gender|Churn|\n",
      "+-----------+-------------------+----------------+-------------+--------+---------------------+--------------+------------+-------+--------------+---+------+-----+\n",
      "|      44605|2023-05-03 21:30:02|            Home|          177|       1|                 2427|        PayPal|          31|    1.0|   John Rivera| 31|Female|    0|\n",
      "|      44605|2021-05-16 13:57:44|     Electronics|          174|       3|                 2448|        PayPal|          31|    1.0|   John Rivera| 31|Female|    0|\n",
      "|      44605|2020-07-13 06:16:57|           Books|          413|       1|                 2345|   Credit Card|          31|    1.0|   John Rivera| 31|Female|    0|\n",
      "|      44605|2023-01-17 13:14:36|     Electronics|          396|       3|                  937|          Cash|          31|    0.0|   John Rivera| 31|Female|    0|\n",
      "|      44605|2021-05-01 11:29:27|           Books|          259|       4|                 2598|        PayPal|          31|    1.0|   John Rivera| 31|Female|    0|\n",
      "|      13738|2022-08-25 06:48:33|            Home|          191|       3|                 3722|   Credit Card|          27|    1.0|Lauren Johnson| 27|Female|    0|\n",
      "|      13738|2023-07-25 05:17:24|     Electronics|          205|       1|                 2773|   Credit Card|          27|   NULL|Lauren Johnson| 27|Female|    0|\n",
      "|      13738|2023-02-05 19:31:48|           Books|          370|       5|                 1486|          Cash|          27|    1.0|Lauren Johnson| 27|Female|    0|\n",
      "|      13738|2021-12-21 03:29:05|            Home|           12|       2|                 2175|          Cash|          27|   NULL|Lauren Johnson| 27|Female|    0|\n",
      "|      13738|2023-02-09 00:53:14|     Electronics|           40|       4|                 4327|          Cash|          27|    0.0|Lauren Johnson| 27|Female|    0|\n",
      "|      33969|2023-02-28 19:58:23|        Clothing|          410|       3|                 5018|   Credit Card|          27|   NULL|   Carol Allen| 27|  Male|    0|\n",
      "|      33969|2023-01-05 11:15:27|            Home|          304|       1|                 3883|        PayPal|          27|    1.0|   Carol Allen| 27|  Male|    0|\n",
      "|      33969|2023-07-18 23:36:50|           Books|           54|       2|                 4187|        PayPal|          27|    0.0|   Carol Allen| 27|  Male|    0|\n",
      "|      33969|2021-12-20 23:44:57|     Electronics|          428|       4|                 2289|          Cash|          27|    0.0|   Carol Allen| 27|  Male|    0|\n",
      "|      33969|2020-03-07 21:31:35|           Books|          281|       1|                 3810|          Cash|          27|    0.0|   Carol Allen| 27|  Male|    0|\n",
      "|      33969|2022-07-21 04:25:44|            Home|          193|       2|                 3198|   Credit Card|          27|    0.0|   Carol Allen| 27|  Male|    0|\n",
      "|      33969|2023-07-05 15:01:04|        Clothing|          473|       3|                 2881|   Credit Card|          27|    1.0|   Carol Allen| 27|  Male|    0|\n",
      "|      42650|2020-10-18 23:38:52|           Books|          127|       5|                 3347|          Cash|          20|    0.0|  Curtis Smith| 20|Female|    0|\n",
      "|      42650|2020-05-17 17:02:36|            Home|          284|       2|                 3531|   Credit Card|          20|    1.0|  Curtis Smith| 20|Female|    0|\n",
      "|      42650|2022-03-18 13:52:08|     Electronics|          256|       2|                 3548|   Credit Card|          20|    0.0|  Curtis Smith| 20|Female|    0|\n",
      "+-----------+-------------------+----------------+-------------+--------+---------------------+--------------+------------+-------+--------------+---+------+-----+\n",
      "only showing top 20 rows\n",
      "\n",
      "+-----------+-------------+----------------+-------------+--------+---------------------+--------------+------------+-------+-------------+---+------+-----+\n",
      "|Customer ID|Purchase Date|Product Category|Product Price|Quantity|Total Purchase Amount|Payment Method|Customer Age|Returns|Customer Name|Age|Gender|Churn|\n",
      "+-----------+-------------+----------------+-------------+--------+---------------------+--------------+------------+-------+-------------+---+------+-----+\n",
      "|          0|            0|               0|            0|       0|                    0|             0|           0|  47382|            0|  0|     0|    0|\n",
      "+-----------+-------------+----------------+-------------+--------+---------------------+--------------+------------+-------+-------------+---+------+-----+\n",
      "\n",
      "+-----------+-------------------+----------------+-------------+--------+---------------------+--------------+------------+-------+--------------+---+------+-----+\n",
      "|Customer ID|      Purchase Date|Product Category|Product Price|Quantity|Total Purchase Amount|Payment Method|Customer Age|Returns| Customer Name|Age|Gender|Churn|\n",
      "+-----------+-------------------+----------------+-------------+--------+---------------------+--------------+------------+-------+--------------+---+------+-----+\n",
      "|      44605|2023-05-03 21:30:02|            Home|          177|       1|                 2427|        PayPal|          31|    1.0|   John Rivera| 31|Female|    0|\n",
      "|      44605|2021-05-16 13:57:44|     Electronics|          174|       3|                 2448|        PayPal|          31|    1.0|   John Rivera| 31|Female|    0|\n",
      "|      44605|2020-07-13 06:16:57|           Books|          413|       1|                 2345|   Credit Card|          31|    1.0|   John Rivera| 31|Female|    0|\n",
      "|      44605|2023-01-17 13:14:36|     Electronics|          396|       3|                  937|          Cash|          31|    0.0|   John Rivera| 31|Female|    0|\n",
      "|      44605|2021-05-01 11:29:27|           Books|          259|       4|                 2598|        PayPal|          31|    1.0|   John Rivera| 31|Female|    0|\n",
      "|      13738|2022-08-25 06:48:33|            Home|          191|       3|                 3722|   Credit Card|          27|    1.0|Lauren Johnson| 27|Female|    0|\n",
      "|      13738|2023-07-25 05:17:24|     Electronics|          205|       1|                 2773|   Credit Card|          27|    0.0|Lauren Johnson| 27|Female|    0|\n",
      "|      13738|2023-02-05 19:31:48|           Books|          370|       5|                 1486|          Cash|          27|    1.0|Lauren Johnson| 27|Female|    0|\n",
      "|      13738|2021-12-21 03:29:05|            Home|           12|       2|                 2175|          Cash|          27|    0.0|Lauren Johnson| 27|Female|    0|\n",
      "|      13738|2023-02-09 00:53:14|     Electronics|           40|       4|                 4327|          Cash|          27|    0.0|Lauren Johnson| 27|Female|    0|\n",
      "|      33969|2023-02-28 19:58:23|        Clothing|          410|       3|                 5018|   Credit Card|          27|    0.0|   Carol Allen| 27|  Male|    0|\n",
      "|      33969|2023-01-05 11:15:27|            Home|          304|       1|                 3883|        PayPal|          27|    1.0|   Carol Allen| 27|  Male|    0|\n",
      "|      33969|2023-07-18 23:36:50|           Books|           54|       2|                 4187|        PayPal|          27|    0.0|   Carol Allen| 27|  Male|    0|\n",
      "|      33969|2021-12-20 23:44:57|     Electronics|          428|       4|                 2289|          Cash|          27|    0.0|   Carol Allen| 27|  Male|    0|\n",
      "|      33969|2020-03-07 21:31:35|           Books|          281|       1|                 3810|          Cash|          27|    0.0|   Carol Allen| 27|  Male|    0|\n",
      "|      33969|2022-07-21 04:25:44|            Home|          193|       2|                 3198|   Credit Card|          27|    0.0|   Carol Allen| 27|  Male|    0|\n",
      "|      33969|2023-07-05 15:01:04|        Clothing|          473|       3|                 2881|   Credit Card|          27|    1.0|   Carol Allen| 27|  Male|    0|\n",
      "|      42650|2020-10-18 23:38:52|           Books|          127|       5|                 3347|          Cash|          20|    0.0|  Curtis Smith| 20|Female|    0|\n",
      "|      42650|2020-05-17 17:02:36|            Home|          284|       2|                 3531|   Credit Card|          20|    1.0|  Curtis Smith| 20|Female|    0|\n",
      "|      42650|2022-03-18 13:52:08|     Electronics|          256|       2|                 3548|   Credit Card|          20|    0.0|  Curtis Smith| 20|Female|    0|\n",
      "+-----------+-------------------+----------------+-------------+--------+---------------------+--------------+------------+-------+--------------+---+------+-----+\n",
      "only showing top 20 rows\n",
      "\n",
      "+-----------+-------------+----------------+-------------+--------+---------------------+--------------+------------+-------+-------------+---+------+-----+\n",
      "|Customer ID|Purchase Date|Product Category|Product Price|Quantity|Total Purchase Amount|Payment Method|Customer Age|Returns|Customer Name|Age|Gender|Churn|\n",
      "+-----------+-------------+----------------+-------------+--------+---------------------+--------------+------------+-------+-------------+---+------+-----+\n",
      "|          0|            0|               0|            0|       0|                    0|             0|           0|      0|            0|  0|     0|    0|\n",
      "+-----------+-------------+----------------+-------------+--------+---------------------+--------------+------------+-------+-------------+---+------+-----+\n",
      "\n"
     ]
    }
   ],
   "source": [
    "import pyspark\n",
    "from pyspark.sql import SparkSession\n",
    "import seaborn as sns\n",
    "import pandas as pd\n",
    "\n",
    "\n",
    "# Initialize Spark session\n",
    "spark = SparkSession.builder \\\n",
    "    .appName(\"MyApp\") \\\n",
    "    .getOrCreate()\n",
    "\n",
    "# Read CSV file into DataFrame\n",
    "df = spark.read.csv(\"./originalDataSets/ecommerce_customer_data_large.csv\", header=True, inferSchema=True)\n",
    "\n",
    "# Show the DataFrame\n",
    "df.show()\n",
    "\n",
    "# Check for null values in the DataFrame\n",
    "null_counts = df.select([pyspark.sql.functions.count(pyspark.sql.functions.when(pyspark.sql.functions.col(c).isNull(), c)).alias(c) for c in df.columns])\n",
    "null_counts.show()\n",
    "\n",
    "# Replace null values in the 'Returns' column with 0\n",
    "df = df.fillna({'Returns': 0})\n",
    "\n",
    "# Show the updated DataFrame\n",
    "df.show()\n",
    "\n",
    "# Check for null values in the DataFrame\n",
    "null_counts = df.select([pyspark.sql.functions.count(pyspark.sql.functions.when(pyspark.sql.functions.col(c).isNull(), c)).alias(c) for c in df.columns])\n",
    "null_counts.show()"
   ]
  },
  {
   "cell_type": "code",
   "execution_count": 32,
   "metadata": {},
   "outputs": [
    {
     "name": "stdout",
     "output_type": "stream",
     "text": [
      "+-----------+-------------------+----------------+-------------+--------+---------------------+--------------+------------+-------+--------------------+---+------+-----+--------+\n",
      "|Customer ID|      Purchase Date|Product Category|Product Price|Quantity|Total Purchase Amount|Payment Method|Customer Age|Returns|       Customer Name|Age|Gender|Churn|order_id|\n",
      "+-----------+-------------------+----------------+-------------+--------+---------------------+--------------+------------+-------+--------------------+---+------+-----+--------+\n",
      "|      11789|2020-01-01 00:07:26|        Clothing|          426|       4|                 2046|          Cash|          45|    1.0|       Matthew Davis| 45|  Male|    0|       1|\n",
      "|      48592|2020-01-01 00:11:40|        Clothing|          160|       4|                 2514|          Cash|          49|    0.0|       Tina Phillips| 49|  Male|    0|       2|\n",
      "|      30486|2020-01-01 00:15:47|        Clothing|          230|       4|                  713|   Credit Card|          35|    0.0|         Lance Colon| 35|  Male|    1|       3|\n",
      "|      25222|2020-01-01 00:24:27|        Clothing|           17|       1|                 4197|          Cash|          34|    1.0|        John Delgado| 34|Female|    0|       4|\n",
      "|       6380|2020-01-01 00:28:45|            Home|          363|       5|                 5150|        PayPal|          54|    0.0|      Ashlee Johnson| 54|Female|    1|       5|\n",
      "|      27554|2020-01-01 00:33:57|           Books|          236|       3|                 1343|   Credit Card|          46|    0.0|        William Bell| 46|  Male|    0|       6|\n",
      "|       5399|2020-01-01 00:50:45|           Books|          368|       2|                 1250|          Cash|          55|    0.0|Christine Strickland| 55|Female|    0|       7|\n",
      "|      39440|2020-01-01 00:53:25|           Books|          181|       2|                 4110|          Cash|          64|    1.0|           Gary King| 64|Female|    0|       8|\n",
      "|      14460|2020-01-01 01:32:30|            Home|          123|       3|                 2505|        PayPal|          39|    1.0|       Anna Martinez| 39|  Male|    0|       9|\n",
      "|      16963|2020-01-01 01:44:13|        Clothing|          189|       5|                 2059|          Cash|          45|    1.0|        Gregory Shaw| 45|  Male|    1|      10|\n",
      "|       5186|2020-01-01 01:52:06|            Home|          467|       5|                 4955|        PayPal|          22|    0.0|      Frances Dawson| 22|Female|    1|      11|\n",
      "|      36360|2020-01-01 01:59:22|     Electronics|          319|       5|                 4441|          Cash|          24|    1.0|        Mary Salazar| 24|Female|    0|      12|\n",
      "|      31635|2020-01-01 02:01:56|            Home|           27|       2|                 2864|   Credit Card|          62|    0.0|        Vincent Luna| 62|Female|    0|      13|\n",
      "|       8823|2020-01-01 02:11:56|     Electronics|          498|       3|                 3971|        PayPal|          46|    0.0|         Casey White| 46|Female|    0|      14|\n",
      "|      33109|2020-01-01 02:14:03|        Clothing|          211|       5|                  358|          Cash|          34|    0.0|       Melissa Meyer| 34|Female|    0|      15|\n",
      "|      49612|2020-01-01 02:15:51|        Clothing|          405|       2|                  502|        PayPal|          54|    0.0|     Joshua Davidson| 54|  Male|    0|      16|\n",
      "|      40985|2020-01-01 02:29:32|           Books|          234|       3|                 4601|   Credit Card|          46|    0.0|      Christina Hill| 46|  Male|    0|      17|\n",
      "|      19620|2020-01-01 02:41:53|            Home|          370|       4|                 1563|   Credit Card|          33|    1.0|       Sean Martinez| 33|Female|    0|      18|\n",
      "|      36491|2020-01-01 02:45:08|            Home|          120|       4|                 2229|        PayPal|          23|    1.0|         Sharon Reed| 23|Female|    1|      19|\n",
      "|      45970|2020-01-01 02:50:01|        Clothing|           96|       1|                 2437|        PayPal|          42|    0.0|   Katherine Vaughan| 42|  Male|    1|      20|\n",
      "+-----------+-------------------+----------------+-------------+--------+---------------------+--------------+------------+-------+--------------------+---+------+-----+--------+\n",
      "only showing top 20 rows\n",
      "\n"
     ]
    }
   ],
   "source": [
    "from pyspark.sql.functions import row_number\n",
    "from pyspark.sql.window import Window\n",
    "\n",
    "# Define window specification\n",
    "window_spec = Window.orderBy(\"Purchase Date\")\n",
    "\n",
    "df_with_order_id = df.select(\"*\").withColumn(\"order_id\", row_number().over(window_spec))\n",
    "\n",
    "# Show the updated DataFrame\n",
    "df_with_order_id.show()"
   ]
  },
  {
   "cell_type": "code",
   "execution_count": 33,
   "metadata": {},
   "outputs": [
    {
     "name": "stdout",
     "output_type": "stream",
     "text": [
      "+-----------+---------------------+\n",
      "|Customer ID|Product Category List|\n",
      "+-----------+---------------------+\n",
      "|          1| [Books, Electroni...|\n",
      "|          3| [Electronics, Hom...|\n",
      "|          6| [Clothing, Books,...|\n",
      "|         12| [Home, Clothing, ...|\n",
      "|         13| [Home, Books, Clo...|\n",
      "|         16|        [Books, Home]|\n",
      "|         20| [Books, Clothing,...|\n",
      "|         22| [Electronics, Clo...|\n",
      "|         26| [Clothing, Home, ...|\n",
      "|         27| [Electronics, Boo...|\n",
      "|         28|    [Clothing, Books]|\n",
      "|         31| [Clothing, Books,...|\n",
      "|         34|        [Electronics]|\n",
      "|         40| [Electronics, Clo...|\n",
      "|         44| [Home, Electronic...|\n",
      "|         47| [Home, Clothing, ...|\n",
      "|         48|     [Home, Clothing]|\n",
      "|         52| [Electronics, Boo...|\n",
      "|         53| [Electronics, Clo...|\n",
      "|         54| [Home, Clothing, ...|\n",
      "+-----------+---------------------+\n",
      "only showing top 20 rows\n",
      "\n"
     ]
    },
    {
     "data": {
      "text/plain": [
       "FPGrowthModel: uid=FPGrowth_0904e5a1e041, numTrainingRecords=49661"
      ]
     },
     "execution_count": 33,
     "metadata": {},
     "output_type": "execute_result"
    }
   ],
   "source": [
    "from pyspark.ml.fpm import FPGrowth\n",
    "from pyspark.sql.functions import collect_list, array_distinct\n",
    "\n",
    "# Assuming 'CustomerID' is the column to group by\n",
    "df_grouped = df_with_order_id.groupBy(\"Customer ID\").agg(array_distinct(collect_list(\"Product Category\")).alias(\"Product Category List\"))\n",
    "df_grouped.show()\n",
    "fp_growth = FPGrowth(itemsCol=\"Product Category List\", minSupport=0.2, minConfidence=0.5)\n",
    "model = fp_growth.fit(df_grouped)\n",
    "model.setPredictionCol(\"newPrediction\")"
   ]
  },
  {
   "cell_type": "code",
   "execution_count": 34,
   "metadata": {},
   "outputs": [
    {
     "name": "stdout",
     "output_type": "stream",
     "text": [
      "+--------------------+-----+\n",
      "|               items| freq|\n",
      "+--------------------+-----+\n",
      "|             [Books]|35504|\n",
      "|   [Books, Clothing]|25338|\n",
      "|[Books, Clothing,...|18008|\n",
      "|[Books, Clothing,...|12816|\n",
      "|[Books, Clothing,...|18081|\n",
      "|[Books, Electronics]|25275|\n",
      "|[Books, Electroni...|18025|\n",
      "|       [Books, Home]|25389|\n",
      "|              [Home]|35752|\n",
      "|       [Electronics]|35713|\n",
      "| [Electronics, Home]|25508|\n",
      "|          [Clothing]|35654|\n",
      "|[Clothing, Electr...|25436|\n",
      "|[Clothing, Electr...|18142|\n",
      "|    [Clothing, Home]|25456|\n",
      "+--------------------+-----+\n",
      "\n",
      "+--------------------+-------------+------------------+------------------+-------------------+\n",
      "|          antecedent|   consequent|        confidence|              lift|            support|\n",
      "+--------------------+-------------+------------------+------------------+-------------------+\n",
      "|[Books, Clothing,...|       [Home]|0.7116836961350511|0.9885579557440919| 0.2580697126517791|\n",
      "|[Books, Clothing,...|[Electronics]|0.7088103534096566| 0.985641950009155| 0.2580697126517791|\n",
      "|       [Electronics]|      [Books]|0.7077254781172122|0.9899266271062098| 0.5089506856486982|\n",
      "|       [Electronics]|       [Home]|0.7142497129896677|0.9921222588045392| 0.5136424961237188|\n",
      "|       [Electronics]|   [Clothing]|0.7122336404110547|0.9920411403055307| 0.5121926662773605|\n",
      "|[Clothing, Electr...|      [Books]|0.7079729517219688|0.9902727792773967|0.36261855379472824|\n",
      "|[Clothing, Electr...|       [Home]|0.7132410756408241|0.9907212199988522|0.36531684823100624|\n",
      "| [Electronics, Home]|      [Books]|0.7066410537870472|0.9884097952940105|0.36296087473067395|\n",
      "| [Electronics, Home]|   [Clothing]|0.7112278500862474|0.9906402160524244|0.36531684823100624|\n",
      "|              [Home]|      [Books]|0.7101420899530096|0.9933068479370327| 0.5112462495720989|\n",
      "|              [Home]|[Electronics]|0.7134705750727232|0.9921222588045391| 0.5136424961237188|\n",
      "|              [Home]|   [Clothing]| 0.712016110986798|0.9917381524573785| 0.5125953967902378|\n",
      "|             [Books]|   [Clothing]|0.7136660657954034|0.9940363071034254| 0.5102192867642616|\n",
      "|             [Books]|[Electronics]|0.7118916178458765|0.9899266271062098| 0.5089506856486982|\n",
      "|             [Books]|       [Home]| 0.715102523659306|0.9933068479370328| 0.5112462495720989|\n",
      "|       [Books, Home]|   [Clothing]|0.7121588089330024|0.9919369105968989|0.36408852016673043|\n",
      "|       [Books, Home]|[Electronics]|0.7099531293079681|0.9872310462454288|0.36296087473067395|\n",
      "|[Books, Electroni...|   [Clothing]|0.7110124826629681|0.9903402395671078| 0.2580697126517791|\n",
      "|   [Books, Clothing]|[Electronics]|0.7107111847817508|0.9882851663944928|0.36261855379472824|\n",
      "|   [Books, Clothing]|       [Home]|0.7135922330097088|0.9912089920422674|0.36408852016673043|\n",
      "+--------------------+-------------+------------------+------------------+-------------------+\n",
      "only showing top 20 rows\n",
      "\n"
     ]
    }
   ],
   "source": [
    "# Frequent Itemsets\n",
    "frequent_itemsets = model.freqItemsets\n",
    "frequent_itemsets.show()\n",
    "\n",
    "# Association Rules\n",
    "association_rules = model.associationRules\n",
    "association_rules.show()\n"
   ]
  },
  {
   "cell_type": "code",
   "execution_count": 35,
   "metadata": {},
   "outputs": [
    {
     "name": "stdout",
     "output_type": "stream",
     "text": [
      "+-----------+---------------------+--------------------+\n",
      "|Customer ID|Product Category List|       newPrediction|\n",
      "+-----------+---------------------+--------------------+\n",
      "|          1| [Books, Electroni...|              [Home]|\n",
      "|          3| [Electronics, Hom...|             [Books]|\n",
      "|          6| [Clothing, Books,...|                  []|\n",
      "|         12| [Home, Clothing, ...|                  []|\n",
      "|         13| [Home, Books, Clo...|       [Electronics]|\n",
      "|         16|        [Books, Home]|[Electronics, Clo...|\n",
      "|         20| [Books, Clothing,...|       [Electronics]|\n",
      "|         22| [Electronics, Clo...|              [Home]|\n",
      "|         26| [Clothing, Home, ...|       [Electronics]|\n",
      "|         27| [Electronics, Boo...|          [Clothing]|\n",
      "|         28|    [Clothing, Books]| [Electronics, Home]|\n",
      "|         31| [Clothing, Books,...|              [Home]|\n",
      "|         34|        [Electronics]|[Books, Home, Clo...|\n",
      "|         40| [Electronics, Clo...|             [Books]|\n",
      "|         44| [Home, Electronic...|             [Books]|\n",
      "|         47| [Home, Clothing, ...|                  []|\n",
      "|         48|     [Home, Clothing]|[Books, Electronics]|\n",
      "|         52| [Electronics, Boo...|                  []|\n",
      "|         53| [Electronics, Clo...|       [Books, Home]|\n",
      "|         54| [Home, Clothing, ...|                  []|\n",
      "+-----------+---------------------+--------------------+\n",
      "only showing top 20 rows\n",
      "\n"
     ]
    }
   ],
   "source": [
    "predictions = model.transform(df_grouped)\n",
    "predictions.show()"
   ]
  }
 ],
 "metadata": {
  "kernelspec": {
   "display_name": "Python 3",
   "language": "python",
   "name": "python3"
  },
  "language_info": {
   "codemirror_mode": {
    "name": "ipython",
    "version": 3
   },
   "file_extension": ".py",
   "mimetype": "text/x-python",
   "name": "python",
   "nbconvert_exporter": "python",
   "pygments_lexer": "ipython3",
   "version": "3.12.7"
  }
 },
 "nbformat": 4,
 "nbformat_minor": 2
}
